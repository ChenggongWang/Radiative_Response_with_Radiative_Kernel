{
 "cells": [
  {
   "cell_type": "markdown",
   "metadata": {},
   "source": [
    "# Calculate radiative response of abrupt-4xCO2 experiment with the radiatvie kernel "
   ]
  },
  {
   "cell_type": "code",
   "execution_count": 1,
   "metadata": {},
   "outputs": [],
   "source": [
    "import numpy as np\n",
    "import subprocess\n",
    "import xarray as xr\n",
    "import numba\n",
    "from numba import njit\n",
    "\n",
    "import matplotlib.pyplot as plt\n",
    "%matplotlib inline\n",
    "\n",
    "import Radiative_Repsonse_with_Raditive_kernel as r3k"
   ]
  },
  {
   "cell_type": "markdown",
   "metadata": {},
   "source": [
    "## Prepare the data \n",
    "> in both perturbation (abrupt-4xCO2) and control (piControl)\n",
    " - __ta(3D), hus(3D), ts(2D)__:  \\\n",
    "> $dt = T_{per} - T_{con}  $\n",
    " - __rlut rsdt rsut__ : \n",
    " - __rsutcs rlutcs__: \n",
    "> clear-sky data needed in both perturbation (abrupt-4xCO2) and control (piControl) \\\n",
    ">  we infer the forcing in all-sky condition\\\n",
    "> $D = D^0/1.16$"
   ]
  },
  {
   "cell_type": "code",
   "execution_count": 2,
   "metadata": {},
   "outputs": [],
   "source": [
    "experiments = [\"piControl\",\"abrupt-4xCO2\"]\n",
    "# experiments = [\"piControl\",\"1pctCO2\"]\n",
    "\n",
    "var_list = \"ta hus ts rlut rsdt rsut rlutcs rsutcs rsus rsds\".split()\n",
    "res_hori = '2x2.5'\n",
    "## run the regrid scripts before this one!\n",
    "dvc_info = '2020051522'"
   ]
  },
  {
   "cell_type": "code",
   "execution_count": 3,
   "metadata": {},
   "outputs": [
    {
     "name": "stdout",
     "output_type": "stream",
     "text": [
      ">>> start GFDL-CM4\n",
      ">>> reading <var>|     ta\n",
      ">>> reading <var>|    hus\n",
      ">>> reading <var>|     ts\n",
      ">>> reading <var>|   rlut\n",
      ">>> reading <var>|   rsdt\n",
      ">>> reading <var>|   rsut\n",
      ">>> reading <var>| rlutcs\n",
      ">>> reading <var>| rsutcs\n",
      ">>> reading <var>|   rsus\n",
      ">>> reading <var>|   rsds\n"
     ]
    }
   ],
   "source": [
    "# def decompose_RK(model)\n",
    "# process for each model\n",
    "model = 'GFDL-CM4'\n",
    "# model = 'CESM2'\n",
    "var_cont = {}\n",
    "var_pert = {}\n",
    "model_ava = []\n",
    "# read  all var needed\n",
    "print(\">>> start \"+model)\n",
    "for var in var_list:\n",
    "    print(\">>> reading <var>|{0:>7s}\".format(var) )\n",
    "    try:\n",
    "        fpath = f\"./data/piControl/{model}/{var}.mon.0001-0450.ltm.nc.{dvc_info}.2x2.5\"\n",
    "        with xr.open_dataset(fpath) as ds:\n",
    "            var_cont[var] =  ds.isel(model=0).load()\n",
    "    except:\n",
    "        print(f\"Error reading data: {fpath}\")\n",
    "        raise \n",
    "    try:\n",
    "        fpath = f\"./data/abrupt-4xCO2/{model}/{var}.mon.0001-0150.nc.{dvc_info}.2x2.5\"\n",
    "        with xr.open_dataset(fpath) as ds:\n",
    "            var_pert[var] =  ds.isel(model=0).load()\n",
    "    except:\n",
    "        print(f\"Error reading data: {fpath}\")\n",
    "        raise\n"
   ]
  },
  {
   "cell_type": "code",
   "execution_count": 4,
   "metadata": {},
   "outputs": [],
   "source": [
    "## import kernel file and compute: dR_wv, dR_T, dR_Ts, dR_alb + clear sky\n",
    "rk_source = 'GFDL'\n",
    "# kernel file is from  https://climate.rsmas.miami.edu/data/radiative-kernels/index.html\n",
    "fpath = \"./data/kernels_TOA_\"+rk_source+\"_CMIP6-standard.nc\"\n",
    "f_RK =  xr.open_dataset(fpath,decode_times=False) \n",
    "f_RK=f_RK.rename({'time': 'month'})\n",
    "f_RK.coords['month']= np.arange(1,13,1)\n",
    "f_RK.coords['plev']= f_RK.coords['plev']*100"
   ]
  },
  {
   "cell_type": "markdown",
   "metadata": {},
   "source": [
    "## time benchmark  (test with GFDL-CM4)\n",
    "- compile and parallel with numba ~ 10s\n",
    "- pure xarray ~ 100s"
   ]
  },
  {
   "cell_type": "code",
   "execution_count": 5,
   "metadata": {},
   "outputs": [
    {
     "name": "stderr",
     "output_type": "stream",
     "text": [
      "OMP: Info #271: omp_set_nested routine deprecated, please use omp_set_max_active_levels instead.\n"
     ]
    },
    {
     "name": "stdout",
     "output_type": "stream",
     "text": [
      "@njit Functions  compiled\n",
      "CPU times: user 17 s, sys: 238 ms, total: 17.2 s\n",
      "Wall time: 6.54 s\n"
     ]
    }
   ],
   "source": [
    "%%time\n",
    "# run with dummy data to compile the jit functions and speed up the computation\n",
    "# see https://numba.pydata.org/numba-doc/latest/index.html for detail\n",
    "dummy_TPLL = np.random.rand(36,2,3,4).astype('float32')\n",
    "dummy_TPLL12 = np.random.rand(12,2,3,4).astype('float32')\n",
    "dummy_TLL = np.random.rand(36,3,4).astype('float32')\n",
    "dummy_TLL12 = np.random.rand(12,3,4).astype('float32')\n",
    "dummy_plev = np.random.rand(2).astype('float32')\n",
    "r3k.diff_pert_mon_cont_12mon_TPLL_fast(dummy_TPLL, dummy_TPLL12)\n",
    "r3k.diff_pert_mon_cont_12mon_TLL_fast(dummy_TLL, dummy_TLL12)\n",
    "r3k.alb_diff_pert_mon_cont_12mon_TLL_fast(dummy_TLL, dummy_TLL, dummy_TLL12, dummy_TLL12)\n",
    "r3k.omega_wv_fast(dummy_TPLL, dummy_TPLL12, dummy_TPLL12)\n",
    "r3k.RK_compute_TLL_fast (dummy_TLL, dummy_TLL12)\n",
    "r3k.RK_compute_TPLL_plev_fast(dummy_TPLL, dummy_TPLL12, dummy_plev)\n",
    "print(\"@njit Functions  compiled\")"
   ]
  },
  {
   "cell_type": "code",
   "execution_count": 6,
   "metadata": {},
   "outputs": [
    {
     "name": "stdout",
     "output_type": "stream",
     "text": [
      "CPU times: user 36.8 s, sys: 5.32 s, total: 42.1 s\n",
      "Wall time: 4.15 s\n"
     ]
    },
    {
     "data": {
      "text/plain": [
       "1.7821074"
      ]
     },
     "execution_count": 6,
     "metadata": {},
     "output_type": "execute_result"
    }
   ],
   "source": [
    "%%time\n",
    "# numba version (fast, will be 10x faster if run it after compiled)\n",
    "## convert the hus for RK and calculate the dR_wv\n",
    "ta_anom  = r3k.diff_pert_mon_cont_12mon_TPLL_fast(var_pert['ta'].ta.values, var_cont['ta'].ta.values)\n",
    "ts_anom  = r3k.diff_pert_mon_cont_12mon_TLL_fast (var_pert['ts'].ts.values, var_cont['ts'].ts.values)\n",
    "alb_anom = r3k.alb_diff_pert_mon_cont_12mon_TLL_fast(var_pert['rsus'].rsus.values, var_pert['rsds'].rsds.values,\n",
    "                                                      var_cont['rsus'].rsus.values, var_cont['rsds'].rsds.values)\n",
    "omega_wv = r3k.omega_wv_fast (var_pert['hus'].hus.values, var_cont['hus'].hus.values, var_cont['ta'].ta.values)\n",
    "dR_sw   = r3k.diff_pert_mon_cont_12mon_TLL_fast((var_pert['rsdt'].rsdt.values-var_pert['rsut'].rsut.values),\n",
    "                                                 (var_cont['rsdt'].rsdt.values-var_cont['rsut'].rsut.values) )\n",
    "dR_lw   = r3k.diff_pert_mon_cont_12mon_TLL_fast((-var_pert['rlut'].rlut.values),\n",
    "                                                 (-var_cont['rlut'].rlut.values) )\n",
    "dRcs_sw = r3k.diff_pert_mon_cont_12mon_TLL_fast((var_pert['rsdt'].rsdt.values-var_pert['rsutcs'].rsutcs.values),\n",
    "                                                 (var_cont['rsdt'].rsdt.values-var_cont['rsutcs'].rsutcs.values) )\n",
    "dRcs_lw = r3k.diff_pert_mon_cont_12mon_TLL_fast((-var_pert['rlutcs'].rlutcs.values),\n",
    "                                                 (-var_cont['rlutcs'].rlutcs.values) )\n",
    "plev_weight = r3k.RK_plev_weight(var_cont['hus'].hus.plev.values)\n",
    "dR_wv_lw    = r3k.RK_compute_TPLL_plev_fast(omega_wv,f_RK.lw_q.values.astype('float32'),    plev_weight)\n",
    "dR_wv_sw    = r3k.RK_compute_TPLL_plev_fast(omega_wv,f_RK.sw_q.values.astype('float32'),    plev_weight)\n",
    "dR_wvcs_lw  = r3k.RK_compute_TPLL_plev_fast(omega_wv,f_RK.lwclr_q.values.astype('float32'), plev_weight)\n",
    "dR_wvcs_sw  = r3k.RK_compute_TPLL_plev_fast(omega_wv,f_RK.swclr_q.values.astype('float32'), plev_weight)\n",
    "dR_Ta       = r3k.RK_compute_TPLL_plev_fast(ta_anom, f_RK.lw_ta.values.astype('float32'),   plev_weight)\n",
    "dR_Tacs     = r3k.RK_compute_TPLL_plev_fast(ta_anom, f_RK.lwclr_ta.values.astype('float32'),plev_weight)\n",
    "dR_Ts       = r3k.RK_compute_TLL_fast (ts_anom,f_RK.lw_ts.values.astype('float32'))\n",
    "dR_Tscs     = r3k.RK_compute_TLL_fast (ts_anom,f_RK.lwclr_ts.values.astype('float32'))\n",
    "dR_alb      = r3k.RK_compute_TLL_fast (alb_anom,f_RK.sw_alb.values.astype('float32'))\n",
    "dR_albcs    = r3k.RK_compute_TLL_fast (alb_anom,f_RK.swclr_alb.values.astype('float32'))\n",
    "\n",
    "## dR due to cloud change\n",
    "Dcs_lw   = dRcs_lw - (dR_Tacs - dR_Tscs - dR_wvcs_lw)\n",
    "Dcs_sw   = dRcs_sw - (- dR_albcs - dR_wvcs_sw)\n",
    "D_lw     = Dcs_lw / 1.16\n",
    "D_sw     = Dcs_sw / 1.16\n",
    "dR_c_lw  = dR_lw - D_lw - (dR_Ta - dR_Ts - dR_wv_lw)\n",
    "dR_c_sw  = dR_sw - D_sw - (- dR_alb - dR_wv_sw)\n",
    "np.nanmean(dR_c_lw+dR_c_sw)"
   ]
  },
  {
   "cell_type": "code",
   "execution_count": 7,
   "metadata": {},
   "outputs": [
    {
     "name": "stderr",
     "output_type": "stream",
     "text": [
      "/Users/chenggong/miniconda3/envs/r3k_env/lib/python3.10/site-packages/xarray/core/computation.py:733: RuntimeWarning: invalid value encountered in log\n",
      "  result_data = func(*input_data)\n",
      "/Users/chenggong/miniconda3/envs/r3k_env/lib/python3.10/site-packages/xarray/core/computation.py:733: RuntimeWarning: invalid value encountered in log\n",
      "  result_data = func(*input_data)\n"
     ]
    },
    {
     "name": "stdout",
     "output_type": "stream",
     "text": [
      "1.7903143524217626\n",
      "CPU times: user 42.7 s, sys: 51 s, total: 1min 33s\n",
      "Wall time: 1min 51s\n"
     ]
    }
   ],
   "source": [
    "%%time\n",
    "# xarray version (slow but easy to understand and modify)\n",
    "\n",
    "ta_anom0 = var_pert['ta'].ta.groupby('time.month') - var_cont['ta'].ta\n",
    "omega_wv0 = r3k.omega_wv_xarray (var_pert['hus'].hus, var_cont['hus'].hus, var_cont['ta'].ta)\n",
    "#### dt, dts, omega_wv, dRt_l, dRt_s, dRt_lcs, dRt_scs\n",
    "ts_anom0 = var_pert['ts'].ts.groupby('time.month') - var_cont['ts'].ts\n",
    "alb_pert = var_pert['rsus'].rsus/var_pert['rsds'].rsds\n",
    "alb_pert = alb_pert.where(np.isfinite(alb_pert),0)\n",
    "alb_cont = var_cont['rsus'].rsus/var_cont['rsds'].rsds\n",
    "alb_cont = alb_cont.where(np.isfinite(alb_cont),0)\n",
    "alb_anom_0 = alb_pert.groupby('time.month') - alb_cont\n",
    "dR0   = (var_pert['rsdt'].rsdt-var_pert['rsut'].rsut-var_pert['rlut'].rlut).groupby('time.month') \\\n",
    "       -(var_cont['rsdt'].rsdt-var_cont['rsut'].rsut-var_cont['rlut'].rlut)\n",
    "dRcs0 = (var_pert['rsdt'].rsdt-var_pert['rsutcs'].rsutcs-var_pert['rlutcs'].rlutcs).groupby('time.month') \\\n",
    "       -(var_cont['rsdt'].rsdt-var_cont['rsutcs'].rsutcs-var_cont['rlutcs'].rlutcs)\n",
    "#### dR_wv, dR_T, dR_Ts, dR_alb + clear sky\n",
    "dR_wv0    = r3k.RK_compute_TPLL(omega_wv0,f_RK.lw_q+f_RK.sw_q)\n",
    "dR_wvcs0  = r3k.RK_compute_TPLL(omega_wv0,f_RK.lwclr_q+f_RK.swclr_q)\n",
    "dR_Ta0    = r3k.RK_compute_TPLL(ta_anom0,f_RK.lw_ta)\n",
    "dR_Tacs0  = r3k.RK_compute_TPLL(ta_anom0,f_RK.lwclr_ta)\n",
    "dR_Ts0    = r3k.RK_compute_suf (ts_anom0,f_RK.lw_ts)\n",
    "dR_Tscs0  = r3k.RK_compute_suf (ts_anom0,f_RK.lwclr_ts)\n",
    "dR_alb0   = r3k.RK_compute_suf (alb_anom_0*100,f_RK.sw_alb)\n",
    "dR_albcs0 = r3k.RK_compute_suf (alb_anom_0*100,f_RK.swclr_alb)\n",
    "D_00   = dRcs0 - (dR_Tacs0 - dR_Tscs0 - dR_albcs0 - dR_wvcs0)\n",
    "D0     = D_00 / 1.16\n",
    "dR_c0  = dR0 - D0 - (dR_Ta0 - dR_Ts0 - dR_alb0 - dR_wv0)\n",
    "print(dR_c0.mean().values)"
   ]
  },
  {
   "cell_type": "code",
   "execution_count": 8,
   "metadata": {},
   "outputs": [
    {
     "name": "stdout",
     "output_type": "stream",
     "text": [
      "1.679632304\n"
     ]
    }
   ],
   "source": [
    "\n",
    "## write to file\n",
    "ds_write = xr.Dataset()\n",
    "time_ds = var_pert['ts'].time\n",
    "ds_write.coords['time'] = time_ds\n",
    "ds_write.coords['lat']  = var_pert['ts'].lat\n",
    "ds_write.coords['lon']  = var_pert['ts'].lon\n",
    "\n",
    "ds_write['dR_wv_lw'] = (('time','lat','lon'),dR_wv_lw)\n",
    "ds_write['dR_wv_sw'] = (('time','lat','lon'),dR_wv_sw)\n",
    "ds_write['dR_wvcs_lw'] = (('time','lat','lon'),dR_wvcs_lw)\n",
    "ds_write['dR_wvcs_sw'] = (('time','lat','lon'),dR_wvcs_sw)\n",
    "ds_write['dR_Ta'] = (('time','lat','lon'),dR_Ta)\n",
    "ds_write['dR_Tacs'] = (('time','lat','lon'),dR_Tacs)\n",
    "ds_write['dR_Ts'] = (('time','lat','lon'),dR_Ts)\n",
    "ds_write['dR_Tscs'] = (('time','lat','lon'),dR_Tscs)\n",
    "ds_write['dR_alb'] = (('time','lat','lon'),dR_alb)\n",
    "ds_write['dR_albcs'] = (('time','lat','lon'),dR_albcs)\n",
    "ds_write['dR_c_lw'] = (('time','lat','lon'),dR_c_lw)\n",
    "ds_write['dR_c_sw'] = (('time','lat','lon'),dR_c_sw)\n",
    "ds_write['Dcs_lw'] = (('time','lat','lon'),Dcs_lw)\n",
    "ds_write['Dcs_sw'] = (('time','lat','lon'),Dcs_sw)\n",
    "ds_write['dR_sw'] = (('time','lat','lon'),dR_sw)\n",
    "ds_write['dR_lw'] = (('time','lat','lon'),dR_lw)\n",
    "ds_write['dRcs_sw'] = (('time','lat','lon'),dRcs_sw)\n",
    "ds_write['dRcs_sw'] = (('time','lat','lon'),dRcs_sw)\n",
    "ds_write['dts'] = (('time','lat','lon'),ts_anom)\n",
    "#file size GB\n",
    "print(ds_write.nbytes/1e9)\n",
    "\n",
    "# save the rk results for future use\n",
    "# out_filename = 'rk.test.toa'\n",
    "# print(out_filename)\n",
    "# ds_write.to_netcdf(out_filename)"
   ]
  },
  {
   "cell_type": "markdown",
   "metadata": {},
   "source": [
    "# Plot results"
   ]
  },
  {
   "cell_type": "code",
   "execution_count": 9,
   "metadata": {},
   "outputs": [],
   "source": [
    "\n",
    "def global_mean_xarray(ds_XXLL):\n",
    "    \"\"\" \n",
    "    Compute the global mean value of the data.\n",
    "    The data has to have the lat and lon in its dimensions.\n",
    "    \n",
    "    Parameters\n",
    "    ----------\n",
    "    ds_XXLL   : xarray with lat and lon. ds_XXLL.lat will be \n",
    "                used for area weight.\n",
    "\n",
    "    Returns\n",
    "    ----------\n",
    "    tmp_XX    : xarray without lat and lon.\n",
    "    \n",
    "    \"\"\"\n",
    "    lat = ds_XXLL.coords['lat']        # readin lat\n",
    "    # global mean\n",
    "    # compute cos(lat) as a weight function\n",
    "    weight_lat = np.cos(np.deg2rad(lat))/np.mean(np.cos(np.deg2rad(lat)))\n",
    "    tmp_XXL = ds_XXLL.mean(dim=['lon'])*weight_lat\n",
    "    tmp_XX  = tmp_XXL.mean(dim=['lat'])\n",
    "    return tmp_XX"
   ]
  },
  {
   "cell_type": "code",
   "execution_count": 10,
   "metadata": {},
   "outputs": [],
   "source": [
    "dR_temp_gm = global_mean_xarray(ds_write['dR_Ta']+ds_write['dR_Ts']).groupby('time.year').mean()\n",
    "dR_clou_gm = global_mean_xarray(ds_write['dR_c_lw']+ds_write['dR_c_sw']).groupby('time.year').mean()\n",
    "dR_wv_gm = global_mean_xarray(ds_write['dR_wv_lw']+ds_write['dR_wv_sw']).groupby('time.year').mean()\n",
    "dR_albe_gm = global_mean_xarray(ds_write['dR_alb']).groupby('time.year').mean()\n",
    "dts_gm = global_mean_xarray(ds_write['dts']).groupby('time.year').mean()"
   ]
  },
  {
   "cell_type": "code",
   "execution_count": 11,
   "metadata": {},
   "outputs": [
    {
     "data": {
      "image/png": "[encoded data removed]",
      "text/plain": [
       "<Figure size 600x450 with 1 Axes>"
      ]
     },
     "metadata": {
      "needs_background": "light"
     },
     "output_type": "display_data"
    }
   ],
   "source": [
    "plt.close()\n",
    "fig0 = plt.figure(figsize=(4,3),dpi=150)\n",
    "ax1   = fig0.add_subplot(111)\n",
    "ax1.plot(dts_gm,dR_temp_gm/5,'.',label='dR_Temp/5')\n",
    "ax1.plot(dts_gm,dR_clou_gm,'.',label='dR_Cloud')\n",
    "ax1.plot(dts_gm,dR_albe_gm,'.',label='dR_Albedo')\n",
    "ax1.plot(dts_gm,dR_wv_gm,'.',label='dR_WV')\n",
    "ax1.set_xlabel('dTs')\n",
    "plt.legend()\n",
    "plt.show()"
   ]
  },
  {
   "cell_type": "code",
   "execution_count": null,
   "metadata": {},
   "outputs": [],
   "source": []
  }
 ],
 "metadata": {
  "kernelspec": {
   "display_name": "r3k_env",
   "language": "python",
   "name": "r3k_env"
  },
  "language_info": {
   "codemirror_mode": {
    "name": "ipython",
    "version": 3
   },
   "file_extension": ".py",
   "mimetype": "text/x-python",
   "name": "python",
   "nbconvert_exporter": "python",
   "pygments_lexer": "ipython3",
   "version": "3.10.2"
  }
 },
 "nbformat": 4,
 "nbformat_minor": 4
}
