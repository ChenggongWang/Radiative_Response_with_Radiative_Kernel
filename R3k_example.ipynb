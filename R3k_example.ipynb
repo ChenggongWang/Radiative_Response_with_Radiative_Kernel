{
 "cells": [
  {
   "cell_type": "markdown",
   "metadata": {},
   "source": [
    "# Calculate the feedbacks in single model abrupt-4xCO2 experiment by using the radiatvie kernel \n",
    "ref: Soden, et.al., (2008)\n"
   ]
  },
  {
   "cell_type": "code",
   "execution_count": 5,
   "metadata": {},
   "outputs": [
    {
     "ename": "ModuleNotFoundError",
     "evalue": "No module named 'Radiative_Repsonse_with_Raditive_kernel'",
     "output_type": "error",
     "traceback": [
      "\u001b[0;31m---------------------------------------------------------------------------\u001b[0m",
      "\u001b[0;31mModuleNotFoundError\u001b[0m                       Traceback (most recent call last)",
      "\u001b[0;32m<ipython-input-5-49f3fca23521>\u001b[0m in \u001b[0;36m<module>\u001b[0;34m\u001b[0m\n\u001b[1;32m     10\u001b[0m \u001b[0mget_ipython\u001b[0m\u001b[0;34m(\u001b[0m\u001b[0;34m)\u001b[0m\u001b[0;34m.\u001b[0m\u001b[0mrun_line_magic\u001b[0m\u001b[0;34m(\u001b[0m\u001b[0;34m'matplotlib'\u001b[0m\u001b[0;34m,\u001b[0m \u001b[0;34m'inline'\u001b[0m\u001b[0;34m)\u001b[0m\u001b[0;34m\u001b[0m\u001b[0;34m\u001b[0m\u001b[0m\n\u001b[1;32m     11\u001b[0m \u001b[0;34m\u001b[0m\u001b[0m\n\u001b[0;32m---> 12\u001b[0;31m \u001b[0;32mimport\u001b[0m \u001b[0mRadiative_Repsonse_with_Raditive_kernel\u001b[0m \u001b[0;32mas\u001b[0m \u001b[0mR3k\u001b[0m\u001b[0;34m\u001b[0m\u001b[0;34m\u001b[0m\u001b[0m\n\u001b[0m",
      "\u001b[0;31mModuleNotFoundError\u001b[0m: No module named 'Radiative_Repsonse_with_Raditive_kernel'"
     ]
    }
   ],
   "source": [
    "import numpy as np\n",
    "import subprocess\n",
    "import xarray as xr\n",
    "import numba\n",
    "from numba import njit\n",
    "import time\n",
    "sstart_time0 = time.time()\n",
    "\n",
    "import matplotlib.pyplot as plt\n",
    "%matplotlib inline\n",
    "\n",
    "import Radiative_Repsonse_with_Raditive_kernel as R3k"
   ]
  },
  {
   "cell_type": "code",
   "execution_count": 2,
   "metadata": {},
   "outputs": [],
   "source": [
    "def error_info(string):\n",
    "    \"\"\"\n",
    "    print any input info if it is not empty\n",
    "    and raise exception \"\"\"\n",
    "    if string!=\"\" :\n",
    "        raise Exception(\"Error : \"+string)\n",
    "        \n",
    "def global_mean_xarray_nan(ds_XLL):\n",
    "    \"\"\"\n",
    "    A function to compute the global mean value of the data.\n",
    "    The data has to have the lat and lon in its dimensions.\n",
    "    \n",
    "    Parameters\n",
    "    ----------\n",
    "    ds_XLL   :  DataArray with lat and lon. ds_XLL.lat will be \n",
    "                used for area weight.\n",
    "\n",
    "    Returns\n",
    "    ----------\n",
    "    GM_mean  : global mean value.\n",
    "    \n",
    "    \"\"\"\n",
    "    lat = ds_XLL.coords['lat']        # readin lat\n",
    "    weight_area = np.cos(np.deg2rad(lat))\n",
    "    data_XLL_weighted = (ds_XLL*weight_area).mean(dim=['lat','lon'])\n",
    "    data_ones_nan = xr.where(np.isfinite(ds_XLL),1.,np.nan)\n",
    "    weight_sum = (data_ones_nan*weight_area).mean(dim=['lat','lon'])\n",
    "    GM_mean = data_XLL_weighted/weight_sum\n",
    "    \n",
    "    return GM_mean"
   ]
  },
  {
   "cell_type": "markdown",
   "metadata": {},
   "source": [
    "## Prepare the data \n",
    " - __ta(3D), hus(3D), ts(2D)__: \n",
    "> in both perturbation (abrupt-4xCO2) and control (piControl) \\\n",
    "> compute the perturbation for temperature, water vapor \\\n",
    "> $dt = T_{per} - T_{con}  $\n",
    " - __rlut rsdt rsut__ : \n",
    "> in perturbation \\\n",
    "> for the dR\n",
    " - __rsutcs rlutcs__: \n",
    "> clear-sky data needed in both perturbation (abrupt-4xCO2) and control (piControl) \\\n",
    "> for the dR^0, as well as the direct forcing in clear sky (and therefore we can infer the direct forcing in all sky ) \\\n",
    "> $D = D^0/1.16$"
   ]
  },
  {
   "cell_type": "code",
   "execution_count": 3,
   "metadata": {},
   "outputs": [],
   "source": [
    "experiments = [\"piControl\",\"abrupt-4xCO2\"]\n",
    "# experiments = [\"piControl\",\"1pctCO2\"]\n",
    "\n",
    "var_list = \"ta hus ts rlut rsdt rsut rlutcs rsutcs rsus rsds\".split()\n",
    "res_hori = '2x2.5'\n",
    "## run the regrid scripts before this one!\n",
    "dvc_info = '2020051522'"
   ]
  },
  {
   "cell_type": "code",
   "execution_count": 4,
   "metadata": {},
   "outputs": [
    {
     "name": "stdout",
     "output_type": "stream",
     "text": [
      ">>> start GFDL-CM4\n",
      ">>> reading <var>|     ta\n",
      "model GFDL-CM4 does't have variable ta in control experiment\n"
     ]
    },
    {
     "ename": "Exception",
     "evalue": "Error : ls: cannot access ./data/CMIP6_post_regrid/piControl/GFDL-CM4/ta/ta.*0001-0450.ltm.nc.2020051522.2x2.5: No such file or directory\n",
     "output_type": "error",
     "traceback": [
      "\u001b[0;31m---------------------------------------------------------------------------\u001b[0m",
      "\u001b[0;31mException\u001b[0m                                 Traceback (most recent call last)",
      "\u001b[0;32m<ipython-input-4-59fe849d2f07>\u001b[0m in \u001b[0;36m<module>\u001b[0;34m\u001b[0m\n\u001b[1;32m     13\u001b[0m         \u001b[0mdirpath\u001b[0m \u001b[0;34m=\u001b[0m \u001b[0;34m\"./data/CMIP6_post_regrid/piControl/{3:}/{0:}/{1:}.*0001-0450.ltm.nc.{2:}.2x2.5\"\u001b[0m\u001b[0;34m.\u001b[0m\u001b[0mformat\u001b[0m\u001b[0;34m(\u001b[0m\u001b[0mvar\u001b[0m\u001b[0;34m,\u001b[0m\u001b[0mvar\u001b[0m\u001b[0;34m,\u001b[0m\u001b[0mdvc_info\u001b[0m\u001b[0;34m,\u001b[0m\u001b[0mmodel\u001b[0m\u001b[0;34m)\u001b[0m\u001b[0;34m\u001b[0m\u001b[0;34m\u001b[0m\u001b[0m\n\u001b[1;32m     14\u001b[0m         \u001b[0mtmp\u001b[0m \u001b[0;34m=\u001b[0m \u001b[0msubprocess\u001b[0m\u001b[0;34m.\u001b[0m\u001b[0mrun\u001b[0m\u001b[0;34m(\u001b[0m\u001b[0;34m[\u001b[0m\u001b[0;34m\"source ~/.bash_env;  ls  \"\u001b[0m\u001b[0;34m+\u001b[0m\u001b[0mdirpath\u001b[0m\u001b[0;34m]\u001b[0m\u001b[0;34m,\u001b[0m \u001b[0mshell\u001b[0m\u001b[0;34m=\u001b[0m\u001b[0;32mTrue\u001b[0m\u001b[0;34m,\u001b[0m \u001b[0mcapture_output\u001b[0m\u001b[0;34m=\u001b[0m\u001b[0;32mTrue\u001b[0m\u001b[0;34m)\u001b[0m\u001b[0;34m\u001b[0m\u001b[0;34m\u001b[0m\u001b[0m\n\u001b[0;32m---> 15\u001b[0;31m         \u001b[0merror_info\u001b[0m\u001b[0;34m(\u001b[0m\u001b[0mtmp\u001b[0m\u001b[0;34m.\u001b[0m\u001b[0mstderr\u001b[0m\u001b[0;34m.\u001b[0m\u001b[0mdecode\u001b[0m\u001b[0;34m(\u001b[0m\u001b[0;34m\"utf-8\"\u001b[0m\u001b[0;34m)\u001b[0m\u001b[0;34m)\u001b[0m\u001b[0;34m\u001b[0m\u001b[0;34m\u001b[0m\u001b[0m\n\u001b[0m\u001b[1;32m     16\u001b[0m     \u001b[0;32mexcept\u001b[0m\u001b[0;34m:\u001b[0m\u001b[0;34m\u001b[0m\u001b[0;34m\u001b[0m\u001b[0m\n\u001b[1;32m     17\u001b[0m         \u001b[0mprint\u001b[0m\u001b[0;34m(\u001b[0m\u001b[0;34m\"model {0:} does't have variable {1:} in control experiment\"\u001b[0m\u001b[0;34m.\u001b[0m\u001b[0mformat\u001b[0m\u001b[0;34m(\u001b[0m\u001b[0mmodel\u001b[0m\u001b[0;34m,\u001b[0m\u001b[0mvar\u001b[0m\u001b[0;34m)\u001b[0m\u001b[0;34m)\u001b[0m\u001b[0;34m\u001b[0m\u001b[0;34m\u001b[0m\u001b[0m\n",
      "\u001b[0;32m<ipython-input-2-c4c8f6ae8e2e>\u001b[0m in \u001b[0;36merror_info\u001b[0;34m(string)\u001b[0m\n\u001b[1;32m      4\u001b[0m     and raise exception \"\"\"\n\u001b[1;32m      5\u001b[0m     \u001b[0;32mif\u001b[0m \u001b[0mstring\u001b[0m\u001b[0;34m!=\u001b[0m\u001b[0;34m\"\"\u001b[0m \u001b[0;34m:\u001b[0m\u001b[0;34m\u001b[0m\u001b[0;34m\u001b[0m\u001b[0m\n\u001b[0;32m----> 6\u001b[0;31m         \u001b[0;32mraise\u001b[0m \u001b[0mException\u001b[0m\u001b[0;34m(\u001b[0m\u001b[0;34m\"Error : \"\u001b[0m\u001b[0;34m+\u001b[0m\u001b[0mstring\u001b[0m\u001b[0;34m)\u001b[0m\u001b[0;34m\u001b[0m\u001b[0;34m\u001b[0m\u001b[0m\n\u001b[0m\u001b[1;32m      7\u001b[0m \u001b[0;34m\u001b[0m\u001b[0m\n\u001b[1;32m      8\u001b[0m \u001b[0;32mdef\u001b[0m \u001b[0mglobal_mean_xarray_nan\u001b[0m\u001b[0;34m(\u001b[0m\u001b[0mds_XLL\u001b[0m\u001b[0;34m)\u001b[0m\u001b[0;34m:\u001b[0m\u001b[0;34m\u001b[0m\u001b[0;34m\u001b[0m\u001b[0m\n",
      "\u001b[0;31mException\u001b[0m: Error : ls: cannot access ./data/CMIP6_post_regrid/piControl/GFDL-CM4/ta/ta.*0001-0450.ltm.nc.2020051522.2x2.5: No such file or directory\n"
     ]
    }
   ],
   "source": [
    "# def decompose_RK(model)\n",
    "# process for each model\n",
    "model = 'GFDL-CM4'\n",
    "# model = 'CESM2'\n",
    "var_cont = {}\n",
    "var_pert = {}\n",
    "model_ava = []\n",
    "# read in all var needed\n",
    "print(\">>> start \"+model)\n",
    "for var in var_list:\n",
    "    print(\">>> reading <var>|{0:>7s}\".format(var) )\n",
    "    try:\n",
    "        dirpath = \"./data/CMIP6_post_regrid/piControl/{3:}/{0:}/{1:}.*0001-0450.ltm.nc.{2:}.2x2.5\".format(var,var,dvc_info,model)\n",
    "        tmp = subprocess.run([\"source ~/.bash_env;  ls  \"+dirpath], shell=True, capture_output=True)\n",
    "        error_info(tmp.stderr.decode(\"utf-8\"))\n",
    "    except:\n",
    "        print(\"model {0:} does't have variable {1:} in control experiment\".format(model,var))\n",
    "        raise \n",
    "    filelist = tmp.stdout.decode(\"utf-8\")[:-1]\n",
    "    # read variables\n",
    "    with xr.open_dataset(filelist) as ds:\n",
    "#             print(ds)\n",
    "        var_cont[var] =  ds.isel(model=0).load()\n",
    "\n",
    "    try:\n",
    "        dirpath = \"./data/CMIP6_post_regrid/abrupt-4xCO2/{3:}/{0:}/{1:}.*.nc.{2:}.2x2.5\".format(var,var,dvc_info,model)\n",
    "        tmp = subprocess.run([\"source ~/.bash_env;  ls  \"+dirpath], shell=True, capture_output=True)\n",
    "        error_info(tmp.stderr.decode(\"utf-8\"))\n",
    "    except:\n",
    "        print(\"model {0:} does't have variable {1:} in perturbe experiment\".format(model,var))\n",
    "        raise\n",
    "    filelist = tmp.stdout.decode(\"utf-8\")[:-1]\n",
    "    # read variables\n",
    "    with xr.open_dataset(filelist) as ds:\n",
    "        var_pert[var] =  ds.isel(model=0).load()"
   ]
  },
  {
   "cell_type": "code",
   "execution_count": null,
   "metadata": {},
   "outputs": [],
   "source": [
    "## import kernel file and compute: dR_wv, dR_T, dR_Ts, dR_alb + clear sky\n",
    "rk_source = 'GFDL'\n",
    "# kernel file is from Brian Soden\n",
    "dirpath = \"./data/kernels_TOA_\"+rk_source+\"_CMIP6-standard.nc\"\n",
    "tmp = subprocess.run([\"source ~/.bash_env;  ls  \"+dirpath], shell=True, capture_output=True)\n",
    "file_rk = tmp.stdout.decode(\"utf-8\")\n",
    "print(file_rk)\n",
    "f_RK =  xr.open_dataset(file_rk[:-1],decode_times=False) \n",
    "f_RK=f_RK.rename({'time': 'month'})\n",
    "f_RK.coords['month']= np.arange(1,13,1)\n",
    "f_RK.coords['plev']= f_RK.coords['plev']*100"
   ]
  },
  {
   "cell_type": "markdown",
   "metadata": {},
   "source": [
    "## Compute the cloud feedback\n",
    "$\n",
    "\\begin{align}\n",
    "dR &= D + dR_wv + dR_a + dR_T + dR_c \\\\\n",
    "dR^0 &= D^0 + dR^0_{wv} + dR^0_a + dR^0_T \\\\\n",
    "D^0 &= dR^0 - (dR^0_{wv} + dR^0_a + dR^0_T)\\\\\n",
    "\\Rightarrow dR_c &= dR - D - (dR_{wv} + dR_a + dR_T) \\\\\n",
    "with\\quad D &= D^0/1.16 \n",
    "\\end{align}\n",
    "$"
   ]
  },
  {
   "cell_type": "markdown",
   "metadata": {},
   "source": [
    "## convert the hus for RK and calculate the $dR_{wv}$\n",
    "$\n",
    "\\begin{align}\n",
    "dR_{wv} &= K^w  dq \\\\\n",
    "        &= \\underline{(K^w * \\zeta)} \\quad \\underline{(dq / \\zeta)}\\\\\n",
    "        &= K^{\\omega} \\omega  \\\\\n",
    "\\zeta &= \\frac{q}{q_s} \\frac{dq_s}{dT} \\\\\n",
    "\\Rightarrow \\omega  &=  dq / \\zeta \\\\\n",
    "                    &= \\frac{q_s}{q} \\frac{dT}{dq_s} dq \\\\\n",
    "                    &= \\frac{dT}{dln(q_s)}\\frac{dq}{q} \n",
    "\\end{align}\n",
    "$\n",
    "\n",
    "Since the water vapor RK is store with factor $\\zeta$ and the unit $W/m^{-2} K^{-1}$, the convertion for specific humidity is needed for the $dR_{wv}$ calculation."
   ]
  },
  {
   "cell_type": "markdown",
   "metadata": {},
   "source": [
    "## time benchmark  (test with GFDL-CM4)\n",
    "- compile and parallel with numba < 10s\n",
    "- pure xarray ~ 100s"
   ]
  },
  {
   "cell_type": "code",
   "execution_count": null,
   "metadata": {},
   "outputs": [],
   "source": [
    "%%time\n",
    "# run with dummy data to compile the jit functions and speed up the computation\n",
    "# see https://numba.pydata.org/numba-doc/latest/index.html for detail\n",
    "dummy_TPLL = np.random.rand(36,2,3,4).astype('float32')\n",
    "dummy_TPLL12 = np.random.rand(12,2,3,4).astype('float32')\n",
    "dummy_TLL = np.random.rand(36,3,4).astype('float32')\n",
    "dummy_TLL12 = np.random.rand(12,3,4).astype('float32')\n",
    "dummy_plev = np.random.rand(2).astype('float32')\n",
    "cfrk.diff_pert_mon_cont_12mon_TPLL_fast(dummy_TPLL, dummy_TPLL12)\n",
    "cfrk.diff_pert_mon_cont_12mon_TLL_fast(dummy_TLL, dummy_TLL12)\n",
    "cfrk.alb_diff_pert_mon_cont_12mon_TLL_fast(dummy_TLL, dummy_TLL, dummy_TLL12, dummy_TLL12)\n",
    "cfrk.omega_wv_fast(dummy_TPLL, dummy_TPLL12, dummy_TPLL12)\n",
    "cfrk.RK_compute_TLL_fast (dummy_TLL, dummy_TLL12)\n",
    "cfrk.RK_compute_TPLL_plev_fast(dummy_TPLL, dummy_TPLL12, dummy_plev)\n",
    "print(\"@njit Functions finished compile!\")"
   ]
  },
  {
   "cell_type": "code",
   "execution_count": null,
   "metadata": {},
   "outputs": [],
   "source": [
    "%%time\n",
    "# numba version (fast, will be 10x faster if run it after compiled)\n",
    "## convert the hus for RK and calculate the dR_wv\n",
    "ta_anom  = cfrk.diff_pert_mon_cont_12mon_TPLL_fast(var_pert['ta'].ta.values, var_cont['ta'].ta.values)\n",
    "ts_anom  = cfrk.diff_pert_mon_cont_12mon_TLL_fast (var_pert['ts'].ts.values, var_cont['ts'].ts.values)\n",
    "alb_anom = cfrk.alb_diff_pert_mon_cont_12mon_TLL_fast(var_pert['rsus'].rsus.values, var_pert['rsds'].rsds.values,\n",
    "                                                      var_cont['rsus'].rsus.values, var_cont['rsds'].rsds.values)\n",
    "omega_wv = cfrk.omega_wv_fast (var_pert['hus'].hus.values, var_cont['hus'].hus.values, var_cont['ta'].ta.values)\n",
    "dR_sw   = cfrk.diff_pert_mon_cont_12mon_TLL_fast((var_pert['rsdt'].rsdt.values-var_pert['rsut'].rsut.values),\n",
    "                                                 (var_cont['rsdt'].rsdt.values-var_cont['rsut'].rsut.values) )\n",
    "dR_lw   = cfrk.diff_pert_mon_cont_12mon_TLL_fast((-var_pert['rlut'].rlut.values),\n",
    "                                                 (-var_cont['rlut'].rlut.values) )\n",
    "dRcs_sw = cfrk.diff_pert_mon_cont_12mon_TLL_fast((var_pert['rsdt'].rsdt.values-var_pert['rsutcs'].rsutcs.values),\n",
    "                                                 (var_cont['rsdt'].rsdt.values-var_cont['rsutcs'].rsutcs.values) )\n",
    "dRcs_lw = cfrk.diff_pert_mon_cont_12mon_TLL_fast((-var_pert['rlutcs'].rlutcs.values),\n",
    "                                                 (-var_cont['rlutcs'].rlutcs.values) )\n",
    "plev_weight = cfrk.RK_plev_weight(var_cont['hus'].hus.plev.values)\n",
    "dR_wv_lw    = cfrk.RK_compute_TPLL_plev_fast(omega_wv,f_RK.lw_q.values.astype('float32'),    plev_weight)\n",
    "dR_wv_sw    = cfrk.RK_compute_TPLL_plev_fast(omega_wv,f_RK.sw_q.values.astype('float32'),    plev_weight)\n",
    "dR_wvcs_lw  = cfrk.RK_compute_TPLL_plev_fast(omega_wv,f_RK.lwclr_q.values.astype('float32'), plev_weight)\n",
    "dR_wvcs_sw  = cfrk.RK_compute_TPLL_plev_fast(omega_wv,f_RK.swclr_q.values.astype('float32'), plev_weight)\n",
    "dR_Ta       = cfrk.RK_compute_TPLL_plev_fast(ta_anom, f_RK.lw_ta.values.astype('float32'),   plev_weight)\n",
    "dR_Tacs     = cfrk.RK_compute_TPLL_plev_fast(ta_anom, f_RK.lwclr_ta.values.astype('float32'),plev_weight)\n",
    "dR_Ts       = cfrk.RK_compute_TLL_fast (ts_anom,f_RK.lw_ts.values.astype('float32'))\n",
    "dR_Tscs     = cfrk.RK_compute_TLL_fast (ts_anom,f_RK.lwclr_ts.values.astype('float32'))\n",
    "dR_alb      = cfrk.RK_compute_TLL_fast (alb_anom,f_RK.sw_alb.values.astype('float32'))\n",
    "dR_albcs    = cfrk.RK_compute_TLL_fast (alb_anom,f_RK.swclr_alb.values.astype('float32'))\n",
    "\n",
    "## dR due to cloud change\n",
    "Dcs_lw   = dRcs_lw - (dR_Tacs - dR_Tscs - dR_wvcs_lw)\n",
    "Dcs_sw   = dRcs_sw - (- dR_albcs - dR_wvcs_sw)\n",
    "D_lw     = Dcs_lw / 1.16\n",
    "D_sw     = Dcs_sw / 1.16\n",
    "dR_c_lw  = dR_lw - D_lw - (dR_Ta - dR_Ts - dR_wv_lw)\n",
    "dR_c_sw  = dR_sw - D_sw - (- dR_alb - dR_wv_sw)\n",
    "np.nanmean(dR_c_lw+dR_c_sw)"
   ]
  },
  {
   "cell_type": "code",
   "execution_count": null,
   "metadata": {},
   "outputs": [],
   "source": [
    "%%time\n",
    "# xarray version (slow but easy to understand and modify)\n",
    "\n",
    "ta_anom0 = var_pert['ta'].ta.groupby('time.month') - var_cont['ta'].ta\n",
    "omega_wv0 = cfrk.omega_wv_xarray (var_pert['hus'].hus, var_cont['hus'].hus, var_cont['ta'].ta)\n",
    "#### dt, dts, omega_wv, dRt_l, dRt_s, dRt_lcs, dRt_scs\n",
    "ts_anom0 = var_pert['ts'].ts.groupby('time.month') - var_cont['ts'].ts\n",
    "alb_pert = var_pert['rsus'].rsus/var_pert['rsds'].rsds\n",
    "alb_pert = alb_pert.where(np.isfinite(alb_pert),0)\n",
    "alb_cont = var_cont['rsus'].rsus/var_cont['rsds'].rsds\n",
    "alb_cont = alb_cont.where(np.isfinite(alb_cont),0)\n",
    "alb_anom_0 = alb_pert.groupby('time.month') - alb_cont\n",
    "dR0   = (var_pert['rsdt'].rsdt-var_pert['rsut'].rsut-var_pert['rlut'].rlut).groupby('time.month') \\\n",
    "       -(var_cont['rsdt'].rsdt-var_cont['rsut'].rsut-var_cont['rlut'].rlut)\n",
    "dRcs0 = (var_pert['rsdt'].rsdt-var_pert['rsutcs'].rsutcs-var_pert['rlutcs'].rlutcs).groupby('time.month') \\\n",
    "       -(var_cont['rsdt'].rsdt-var_cont['rsutcs'].rsutcs-var_cont['rlutcs'].rlutcs)\n",
    "#### dR_wv, dR_T, dR_Ts, dR_alb + clear sky\n",
    "dR_wv0    = cfrk.RK_compute_TPLL(omega_wv0,f_RK.lw_q+f_RK.sw_q)\n",
    "dR_wvcs0  = cfrk.RK_compute_TPLL(omega_wv0,f_RK.lwclr_q+f_RK.swclr_q)\n",
    "dR_Ta0    = cfrk.RK_compute_TPLL(ta_anom0,f_RK.lw_ta)\n",
    "dR_Tacs0  = cfrk.RK_compute_TPLL(ta_anom0,f_RK.lwclr_ta)\n",
    "dR_Ts0    = cfrk.RK_compute_suf (ts_anom0,f_RK.lw_ts)\n",
    "dR_Tscs0  = cfrk.RK_compute_suf (ts_anom0,f_RK.lwclr_ts)\n",
    "dR_alb0   = cfrk.RK_compute_suf (alb_anom_0*100,f_RK.sw_alb)\n",
    "dR_albcs0 = cfrk.RK_compute_suf (alb_anom_0*100,f_RK.swclr_alb)\n",
    "D_00   = dRcs0 - (dR_Tacs0 - dR_Tscs0 - dR_albcs0 - dR_wvcs0)\n",
    "D0     = D_00 / 1.16\n",
    "dR_c0  = dR0 - D0 - (dR_Ta0 - dR_Ts0 - dR_alb0 - dR_wv0)\n",
    "print(dR_c0.mean().values)"
   ]
  },
  {
   "cell_type": "code",
   "execution_count": null,
   "metadata": {},
   "outputs": [],
   "source": [
    "\n",
    "## write to file\n",
    "ds_write = xr.Dataset()\n",
    "time_ds = var_pert['ts'].time\n",
    "ds_write.coords['time'] = time_ds\n",
    "ds_write.coords['lat']  = var_pert['ts'].lat\n",
    "ds_write.coords['lon']  = var_pert['ts'].lon\n",
    "ds_write.attrs['RK_Info'] = file_rk\n",
    "ds_write.attrs['data_dir'] = '/tigress/cw55/data/CMIP6_post/CMIP6_post_large_scratch/experi/var/var.dvc_info'\n",
    "ds_write.attrs['dvc_info'] = dvc_info\n",
    "\n",
    "ds_write['dR_wv_lw'] = (('time','lat','lon'),dR_wv_lw)\n",
    "ds_write['dR_wv_sw'] = (('time','lat','lon'),dR_wv_sw)\n",
    "ds_write['dR_wvcs_lw'] = (('time','lat','lon'),dR_wvcs_lw)\n",
    "ds_write['dR_wvcs_sw'] = (('time','lat','lon'),dR_wvcs_sw)\n",
    "ds_write['dR_Ta'] = (('time','lat','lon'),dR_Ta)\n",
    "ds_write['dR_Tacs'] = (('time','lat','lon'),dR_Tacs)\n",
    "ds_write['dR_Ts'] = (('time','lat','lon'),dR_Ts)\n",
    "ds_write['dR_Tscs'] = (('time','lat','lon'),dR_Tscs)\n",
    "ds_write['dR_alb'] = (('time','lat','lon'),dR_alb)\n",
    "ds_write['dR_albcs'] = (('time','lat','lon'),dR_albcs)\n",
    "ds_write['dR_c_lw'] = (('time','lat','lon'),dR_c_lw)\n",
    "ds_write['dR_c_sw'] = (('time','lat','lon'),dR_c_sw)\n",
    "ds_write['Dcs_lw'] = (('time','lat','lon'),Dcs_lw)\n",
    "ds_write['Dcs_sw'] = (('time','lat','lon'),Dcs_sw)\n",
    "ds_write['dR_sw'] = (('time','lat','lon'),dR_sw)\n",
    "ds_write['dR_lw'] = (('time','lat','lon'),dR_lw)\n",
    "ds_write['dRcs_sw'] = (('time','lat','lon'),dRcs_sw)\n",
    "ds_write['dRcs_sw'] = (('time','lat','lon'),dRcs_sw)\n",
    "ds_write['dts'] = (('time','lat','lon'),ts_anom)\n",
    "#file size GB\n",
    "print(ds_write.nbytes/1e9)\n",
    "\n",
    "# save the rk results for future use\n",
    "# out_filename = 'rk.test.toa'\n",
    "# print(out_filename)\n",
    "# ds_write.to_netcdf(out_filename)"
   ]
  },
  {
   "cell_type": "markdown",
   "metadata": {},
   "source": [
    "# Plot section"
   ]
  },
  {
   "cell_type": "code",
   "execution_count": null,
   "metadata": {},
   "outputs": [],
   "source": [
    "dR_temp_gm = global_mean_xarray_nan(ds_write['dR_Ta']+ds_write['dR_Ts']).groupby('time.year').mean()\n",
    "dR_clou_gm = global_mean_xarray_nan(ds_write['dR_c_lw']+ds_write['dR_c_sw']).groupby('time.year').mean()\n",
    "dR_wv_gm = global_mean_xarray_nan(ds_write['dR_wv_lw']+ds_write['dR_wv_sw']).groupby('time.year').mean()\n",
    "dR_albe_gm = global_mean_xarray_nan(ds_write['dR_alb']).groupby('time.year').mean()\n",
    "dts_gm = global_mean_xarray_nan(ds_write['dts']).groupby('time.year').mean()"
   ]
  },
  {
   "cell_type": "code",
   "execution_count": null,
   "metadata": {},
   "outputs": [],
   "source": [
    "plt.close()\n",
    "fig0 = plt.figure(figsize=(4,3),dpi=150)\n",
    "ax1   = fig0.add_subplot(111)\n",
    "ax1.plot(dts_gm,dR_temp_gm/5,'.',label='dR_Temp/5')\n",
    "ax1.plot(dts_gm,dR_clou_gm,'.',label='dR_Cloud')\n",
    "ax1.plot(dts_gm,dR_albe_gm,'.',label='dR_Albe')\n",
    "ax1.plot(dts_gm,dR_wv_gm,'.',label='dR_WV')\n",
    "ax1.set_xlabel('dTs')\n",
    "plt.legend()\n",
    "plt.show()"
   ]
  },
  {
   "cell_type": "code",
   "execution_count": null,
   "metadata": {},
   "outputs": [],
   "source": [
    "# #### exit programm f####\n",
    "print(\"--- %s seconds ---\" % (time.time() - sstart_time0))"
   ]
  },
  {
   "cell_type": "code",
   "execution_count": null,
   "metadata": {},
   "outputs": [],
   "source": []
  }
 ],
 "metadata": {
  "kernelspec": {
   "display_name": "Python [conda env:cg37]",
   "language": "python",
   "name": "conda-env-cg37-py"
  },
  "language_info": {
   "codemirror_mode": {
    "name": "ipython",
    "version": 3
   },
   "file_extension": ".py",
   "mimetype": "text/x-python",
   "name": "python",
   "nbconvert_exporter": "python",
   "pygments_lexer": "ipython3",
   "version": "3.7.6"
  }
 },
 "nbformat": 4,
 "nbformat_minor": 4
}
