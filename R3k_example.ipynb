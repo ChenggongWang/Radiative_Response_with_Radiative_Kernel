{
 "cells": [
  {
   "cell_type": "markdown",
   "metadata": {},
   "source": [
    "# Calculate the feedbacks in single model abrupt-4xCO2 experiment by using the radiatvie kernel \n",
    "\n",
    ">ref: [Soden, et.al., (2008)](https://doi.org/10.1175/2007JCLI2110.1)\n"
   ]
  },
  {
   "cell_type": "code",
   "execution_count": 1,
   "metadata": {
    "execution": {
     "iopub.execute_input": "2024-04-18T19:24:33.397445Z",
     "iopub.status.busy": "2024-04-18T19:24:33.397253Z",
     "iopub.status.idle": "2024-04-18T19:24:34.310173Z",
     "shell.execute_reply": "2024-04-18T19:24:34.309344Z",
     "shell.execute_reply.started": "2024-04-18T19:24:33.397426Z"
    },
    "tags": []
   },
   "outputs": [],
   "source": [
    "%matplotlib inline\n",
    "import matplotlib.pyplot as plt\n",
    "import numpy as np\n",
    "import xarray as xr\n",
    "import subprocess \n",
    "import time\n",
    "from scipy import stats\n",
    "sstart_time0 = time.time()"
   ]
  },
  {
   "cell_type": "code",
   "execution_count": 2,
   "metadata": {
    "execution": {
     "iopub.execute_input": "2024-04-18T19:24:34.312165Z",
     "iopub.status.busy": "2024-04-18T19:24:34.311656Z",
     "iopub.status.idle": "2024-04-18T19:24:34.315310Z",
     "shell.execute_reply": "2024-04-18T19:24:34.314729Z",
     "shell.execute_reply.started": "2024-04-18T19:24:34.312141Z"
    },
    "tags": []
   },
   "outputs": [],
   "source": [
    "# # download r3k functions on the fly from github\n",
    "# # comment this line if you manually downloaded it\n",
    "# ! wget https://raw.githubusercontent.com/ChenggongWang/Radiative_Response_with_Radiative_Kernel/main/Radiative_Repsonse_with_Raditive_kernel.py -O Radiative_Repsonse_with_Raditive_kernel.py"
   ]
  },
  {
   "cell_type": "code",
   "execution_count": 3,
   "metadata": {
    "execution": {
     "iopub.execute_input": "2024-04-18T19:24:34.316235Z",
     "iopub.status.busy": "2024-04-18T19:24:34.316056Z",
     "iopub.status.idle": "2024-04-18T19:24:44.983407Z",
     "shell.execute_reply": "2024-04-18T19:24:44.982425Z",
     "shell.execute_reply.started": "2024-04-18T19:24:34.316218Z"
    },
    "tags": []
   },
   "outputs": [
    {
     "name": "stdout",
     "output_type": "stream",
     "text": [
      "@njit Functions compiling ...  | finished!\n"
     ]
    }
   ],
   "source": [
    "# import the function as r3k \n",
    "import Radiative_Repsonse_with_Raditive_kernel as r3k\n",
    "r3k.compile_njit_functions()"
   ]
  },
  {
   "cell_type": "markdown",
   "metadata": {},
   "source": [
    "# Data required and preprocess\n",
    "\n",
    "\n",
    "- 8 Month mean variables [CMIP6 standard output](https://pcmdi.llnl.gov/mips/cmip3/variableList.html): \n",
    "`ta, hus, ts, rlut, rsdt, rsut, rsutcs, rlutcs`\n",
    "\n",
    "- Control (12 month climatology) and Perturbation (nx12 monthly data) data are need.\n",
    "If you have already computed anormaly data, create a control data filled with zeros\n",
    "- `ta` and `hus` are 4d `(time, plev, lat, lon)` variables, while others are 3d `(time, lat, lon)` variables.\n",
    "`time` should be nx12 month (n years >= 1 year). \n",
    "\n",
    "- __Since data and kernel are discrete, we need regrid them to the same resolution.__\n",
    "My practice: bring(regrid) the data to kernels."
   ]
  },
  {
   "cell_type": "markdown",
   "metadata": {},
   "source": [
    "### __Download example data (4GB)__\n",
    "\n",
    "> from: https://drive.google.com/drive/folders/1wtsZ4-kRXmNe2MXb2-czs4osTKASGa0x?usp=sharing\n",
    ">\n",
    "> or: https://tigress-web.princeton.edu/~cw55/share_data/r3k_example_data.tar (extract files: tar -xf xxx.tar)\n",
    ">\n",
    "> make sure data and kernel in path: ./data/\n",
    "\n",
    ">1. GFDL kernel file\n",
    ">2. GFDL-CM4 piControl\n",
    ">3. 4xCO2 experiment\n"
   ]
  },
  {
   "cell_type": "code",
   "execution_count": 4,
   "metadata": {
    "execution": {
     "iopub.execute_input": "2024-04-18T19:24:44.985008Z",
     "iopub.status.busy": "2024-04-18T19:24:44.984604Z",
     "iopub.status.idle": "2024-04-18T19:24:44.990838Z",
     "shell.execute_reply": "2024-04-18T19:24:44.990273Z",
     "shell.execute_reply.started": "2024-04-18T19:24:44.984986Z"
    },
    "tags": []
   },
   "outputs": [],
   "source": [
    "\n",
    "def read_postprocessed_data_example():\n",
    "    \"\"\"\n",
    "    This function read and process example data.\n",
    "    Please create your own function for your data.\n",
    "    The required variables are: ta hus ts rlut rsdt rsut rlutcs rsutcs rsus rsds, which in CMIP6 standard name (ref: https://pcmdi.llnl.gov/mips/cmip3/variableList.html#overview)\n",
    "\n",
    "    Return:\n",
    "        var_cont: dict of variables (monthly climatology of the control experiment. dim: [month,plev,lat,lon], month.size=12)\n",
    "        var_pert: dict of variables (monthly data of the perturbation experiment. dim: [time,plev,lat,lon], time.size=yearx12) \n",
    "    \"\"\"\n",
    "    # CMIP6 standard name, \n",
    "    # ref: https://pcmdi.llnl.gov/mips/cmip3/variableList.html#overview\n",
    "    var_list = 'ta hus ts rlut rsdt rsut rlutcs rsutcs rsus rsds'.split()\n",
    "    # control data in a dictionary {var1: DataArray,...} \n",
    "    var_cont = {}\n",
    "    for var in var_list:\n",
    "        filepath = f\"./data/piControl/GFDL-CM4/{var}.mon.0001-0200.ltm.nc.r1i1p1f1.2x2.5.2021052021\"\n",
    "        var_cont[var] =  xr.open_dataset(filepath)[var].isel(model=0).load() # load into memory\n",
    "    # perturbation data in a dictionary {var1: DataArray,...} \n",
    "    var_pert = {}\n",
    "    for var in var_list:\n",
    "        filepath = f\"./data/abrupt-4xCO2/GFDL-CM4/{var}.mon.0001-0150.nc.r1i1p1f1.2x2.5.2021052021\"\n",
    "        var_pert[var] =  xr.open_dataset(filepath)[var].isel(model=0).load() # load into memory\n",
    "    # return processed data \n",
    "    return var_cont, var_pert\n",
    "\n",
    "# read kernel data\n",
    "def read_kernel_file(rk_source='GFDL'):\n",
    "    rkpath = \"./data/kernels_TOA_\"+rk_source+\"_CMIP6-standard.nc\"\n",
    "    f_RK =  xr.open_dataset(rkpath,decode_times=False) \n",
    "    if rk_source =='GFDL':\n",
    "        f_RK =  f_RK.rename({'time': 'month'})\n",
    "        f_RK.coords['month'] = np.arange(1,13,1)\n",
    "    return f_RK"
   ]
  },
  {
   "cell_type": "code",
   "execution_count": 5,
   "metadata": {
    "execution": {
     "iopub.execute_input": "2024-04-18T19:24:44.991766Z",
     "iopub.status.busy": "2024-04-18T19:24:44.991532Z",
     "iopub.status.idle": "2024-04-18T19:24:51.068870Z",
     "shell.execute_reply": "2024-04-18T19:24:51.068226Z",
     "shell.execute_reply.started": "2024-04-18T19:24:44.991748Z"
    },
    "tags": []
   },
   "outputs": [
    {
     "name": "stdout",
     "output_type": "stream",
     "text": [
      "CPU times: user 339 ms, sys: 1.67 s, total: 2.01 s\n",
      "Wall time: 6.07 s\n"
     ]
    }
   ],
   "source": [
    "%%time\n",
    "# read data\n",
    "f_RK =  read_kernel_file()\n",
    "var_cont, var_pert = read_postprocessed_data_example()"
   ]
  },
  {
   "cell_type": "code",
   "execution_count": 6,
   "metadata": {
    "execution": {
     "iopub.execute_input": "2024-04-18T19:24:51.070055Z",
     "iopub.status.busy": "2024-04-18T19:24:51.069786Z",
     "iopub.status.idle": "2024-04-18T19:25:02.125344Z",
     "shell.execute_reply": "2024-04-18T19:25:02.124447Z",
     "shell.execute_reply.started": "2024-04-18T19:24:51.070036Z"
    },
    "tags": []
   },
   "outputs": [],
   "source": [
    "# %%time\n",
    "# compute RR with RK\n",
    "ds_rk =  r3k.decompose_dR_rk_toa_core(var_pert,var_cont,f_RK )"
   ]
  },
  {
   "cell_type": "markdown",
   "metadata": {},
   "source": [
    "# Plot Results (decomposed radiative response) in time series"
   ]
  },
  {
   "cell_type": "markdown",
   "metadata": {},
   "source": [
    "## rh decomposition"
   ]
  },
  {
   "cell_type": "code",
   "execution_count": 17,
   "metadata": {
    "execution": {
     "iopub.execute_input": "2024-04-18T19:29:22.826788Z",
     "iopub.status.busy": "2024-04-18T19:29:22.826414Z",
     "iopub.status.idle": "2024-04-18T19:29:22.996954Z",
     "shell.execute_reply": "2024-04-18T19:29:22.996447Z",
     "shell.execute_reply.started": "2024-04-18T19:29:22.826767Z"
    },
    "tags": []
   },
   "outputs": [],
   "source": [
    "dR_temp_gm = (ds_rk['dR_Ta_rh_lw_gm'] + ds_rk['dR_Ta_rh_sw_gm'] + ds_rk['dR_ts_gm']).groupby('time.year').mean('time')\n",
    "dR_lr_gm   = (ds_rk['dR_LR_rh_lw_gm'] + ds_rk['dR_LR_rh_sw_gm']  ).groupby('time.year').mean('time')\n",
    "dR_clou_gm = (ds_rk['dR_cloud_lw_gm']  + ds_rk['dR_cloud_sw_gm'] ).groupby('time.year').mean('time')\n",
    "dR_wv_gm   = (ds_rk['dR_rh_lw_gm']     + ds_rk['dR_rh_sw_gm']    ).groupby('time.year').mean('time')\n",
    "dR_albe_gm = ds_rk['dR_alb_gm'].groupby('time.year').mean('time')\n",
    "dts_gm     = ds_rk['dts_gm']   .groupby('time.year').mean('time')"
   ]
  },
  {
   "cell_type": "code",
   "execution_count": 18,
   "metadata": {
    "execution": {
     "iopub.execute_input": "2024-04-18T19:29:23.532990Z",
     "iopub.status.busy": "2024-04-18T19:29:23.532459Z",
     "iopub.status.idle": "2024-04-18T19:29:23.664349Z",
     "shell.execute_reply": "2024-04-18T19:29:23.663906Z",
     "shell.execute_reply.started": "2024-04-18T19:29:23.532973Z"
    },
    "tags": []
   },
   "outputs": [
    {
     "data": {
      "image/png": "[encoded data removed]",
      "text/plain": [
       "<Figure size 600x450 with 1 Axes>"
      ]
     },
     "metadata": {},
     "output_type": "display_data"
    }
   ],
   "source": [
    "plt.close()\n",
    "fig0 = plt.figure(figsize=(4,3),dpi=150)\n",
    "ax1   = fig0.add_subplot(111)\n",
    "ax1.plot(dts_gm,dR_temp_gm/5,'.',label='dR_Temp/5')\n",
    "ax1.plot(dts_gm,dR_clou_gm,'.',label='dR_Cloud')\n",
    "ax1.plot(dts_gm,dR_albe_gm,'.',label='dR_Albe')\n",
    "ax1.plot(dts_gm,dR_wv_gm,'.',label='dR_RH')\n",
    "ax1.set_xlabel('dTs')\n",
    "plt.legend()\n",
    "plt.show()"
   ]
  },
  {
   "cell_type": "markdown",
   "metadata": {},
   "source": [
    "calculate climate feedbacks \n",
    "\n",
    "regress the RR on to ts and the slope is the climate feedback"
   ]
  },
  {
   "cell_type": "code",
   "execution_count": 20,
   "metadata": {
    "execution": {
     "iopub.execute_input": "2024-04-18T19:29:46.945713Z",
     "iopub.status.busy": "2024-04-18T19:29:46.945182Z",
     "iopub.status.idle": "2024-04-18T19:29:46.951814Z",
     "shell.execute_reply": "2024-04-18T19:29:46.951297Z",
     "shell.execute_reply.started": "2024-04-18T19:29:46.945691Z"
    },
    "tags": []
   },
   "outputs": [
    {
     "name": "stdout",
     "output_type": "stream",
     "text": [
      "Plank :-2.21 W/m2/K\n",
      "LR    : 0.19 W/m2/K\n",
      "Cloud : 0.67 W/m2/K\n",
      "RH    : 0.02 W/m2/K\n",
      "Alb   : 0.48 W/m2/K\n"
     ]
    }
   ],
   "source": [
    "fb_name = ['Plank', 'LR', 'Cloud','RH','Alb']\n",
    "dR_list = {\n",
    "    'Plank':dR_temp_gm-dR_lr_gm,\n",
    "    'LR':dR_lr_gm,\n",
    "    'Cloud': dR_clou_gm,\n",
    "    'RH':dR_wv_gm,\n",
    "    'Alb':dR_albe_gm\n",
    "}\n",
    "for name in fb_name:\n",
    "    fb = stats.linregress(dts_gm, dR_list[name]).slope\n",
    "    print(f'{name:6s}:{fb:5.2f} W/m2/K')"
   ]
  },
  {
   "cell_type": "markdown",
   "metadata": {
    "tags": []
   },
   "source": [
    "## Conventional decomposition"
   ]
  },
  {
   "cell_type": "code",
   "execution_count": 13,
   "metadata": {
    "execution": {
     "iopub.execute_input": "2024-04-18T19:26:23.980050Z",
     "iopub.status.busy": "2024-04-18T19:26:23.979684Z",
     "iopub.status.idle": "2024-04-18T19:26:24.152563Z",
     "shell.execute_reply": "2024-04-18T19:26:24.152045Z",
     "shell.execute_reply.started": "2024-04-18T19:26:23.980028Z"
    },
    "tags": []
   },
   "outputs": [],
   "source": [
    "dR_temp_gm = (ds_rk['dR_ta_gm']        + ds_rk['dR_ts_gm']       ).groupby('time.year').mean('time')\n",
    "dR_lr_gm   = ds_rk['dR_lr_gm'].groupby('time.year').mean('time')\n",
    "dR_clou_gm = (ds_rk['dR_cloud_lw_gm']  + ds_rk['dR_cloud_sw_gm'] ).groupby('time.year').mean('time')\n",
    "dR_wv_gm   = (ds_rk['dR_wv_lw_gm']     + ds_rk['dR_wv_sw_gm']    ).groupby('time.year').mean('time')\n",
    "dR_albe_gm = ds_rk['dR_alb_gm'].groupby('time.year').mean('time')\n",
    "dts_gm     = ds_rk['dts_gm']   .groupby('time.year').mean('time')"
   ]
  },
  {
   "cell_type": "code",
   "execution_count": 14,
   "metadata": {
    "execution": {
     "iopub.execute_input": "2024-04-18T19:26:24.862767Z",
     "iopub.status.busy": "2024-04-18T19:26:24.862544Z",
     "iopub.status.idle": "2024-04-18T19:26:25.139253Z",
     "shell.execute_reply": "2024-04-18T19:26:25.138766Z",
     "shell.execute_reply.started": "2024-04-18T19:26:24.862749Z"
    },
    "tags": []
   },
   "outputs": [
    {
     "data": {
      "image/png": "[encoded data removed]",
      "text/plain": [
       "<Figure size 600x450 with 1 Axes>"
      ]
     },
     "metadata": {},
     "output_type": "display_data"
    }
   ],
   "source": [
    "plt.close()\n",
    "fig0 = plt.figure(figsize=(4,3),dpi=150)\n",
    "ax1   = fig0.add_subplot(111)\n",
    "ax1.plot(dts_gm,dR_temp_gm/5,'.',label='dR_Temp/5')\n",
    "ax1.plot(dts_gm,dR_clou_gm,'.',label='dR_Cloud')\n",
    "ax1.plot(dts_gm,dR_albe_gm,'.',label='dR_Albe')\n",
    "ax1.plot(dts_gm,dR_wv_gm,'.',label='dR_WV')\n",
    "ax1.set_xlabel('dTs')\n",
    "plt.legend()\n",
    "plt.show()"
   ]
  },
  {
   "cell_type": "markdown",
   "metadata": {},
   "source": [
    "calculate climate feedbacks \n",
    "\n",
    "regress the RR on to ts and the slope is the climate feedback"
   ]
  },
  {
   "cell_type": "code",
   "execution_count": 16,
   "metadata": {
    "execution": {
     "iopub.execute_input": "2024-04-18T19:26:43.570660Z",
     "iopub.status.busy": "2024-04-18T19:26:43.570326Z",
     "iopub.status.idle": "2024-04-18T19:26:43.577042Z",
     "shell.execute_reply": "2024-04-18T19:26:43.576568Z",
     "shell.execute_reply.started": "2024-04-18T19:26:43.570638Z"
    },
    "tags": []
   },
   "outputs": [
    {
     "name": "stdout",
     "output_type": "stream",
     "text": [
      "Plank :-3.55 W/m2/K\n",
      "LR    :-0.20 W/m2/K\n",
      "Cloud : 0.67 W/m2/K\n",
      "WV    : 1.74 W/m2/K\n",
      "Alb   : 0.48 W/m2/K\n"
     ]
    }
   ],
   "source": [
    "fb_name = ['Plank','LR','Cloud','WV','Alb']\n",
    "dR_list = {\n",
    "    'Plank':dR_temp_gm-dR_lr_gm,\n",
    "    'LR':dR_lr_gm,\n",
    "    'Cloud': dR_clou_gm,\n",
    "    'WV':dR_wv_gm,\n",
    "    'Alb':dR_albe_gm\n",
    "}\n",
    "for name in fb_name:\n",
    "    \n",
    "    fb = stats.linregress(dts_gm, dR_list[name]).slope\n",
    "    print(f'{name:6s}:{fb:5.2f} W/m2/K')"
   ]
  },
  {
   "cell_type": "code",
   "execution_count": null,
   "metadata": {},
   "outputs": [],
   "source": []
  }
 ],
 "metadata": {
  "kernelspec": {
   "display_name": "r3k_env",
   "language": "python",
   "name": "r3k_env"
  },
  "language_info": {
   "codemirror_mode": {
    "name": "ipython",
    "version": 3
   },
   "file_extension": ".py",
   "mimetype": "text/x-python",
   "name": "python",
   "nbconvert_exporter": "python",
   "pygments_lexer": "ipython3",
   "version": "3.10.14"
  }
 },
 "nbformat": 4,
 "nbformat_minor": 4
}
