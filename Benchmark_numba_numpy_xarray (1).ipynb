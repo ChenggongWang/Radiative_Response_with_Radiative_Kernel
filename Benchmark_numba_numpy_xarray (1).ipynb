{
 "cells": [
  {
   "cell_type": "markdown",
   "metadata": {},
   "source": [
    "# Calculate the feedbacks in single model abrupt-4xCO2 experiment by using the radiatvie kernel \n",
    "\n",
    ">ref: [Soden, et.al., (2008)](https://doi.org/10.1175/2007JCLI2110.1)\n"
   ]
  },
  {
   "cell_type": "code",
   "execution_count": 1,
   "metadata": {},
   "outputs": [],
   "source": [
    "%matplotlib inline\n",
    "import matplotlib.pyplot as plt\n",
    "import numpy as np\n",
    "import xarray as xr\n",
    "import time\n",
    "# import the function as r3k \n",
    "import Radiative_Repsonse_with_Raditive_kernel as r3k\n"
   ]
  },
  {
   "cell_type": "code",
   "execution_count": 2,
   "metadata": {},
   "outputs": [],
   "source": [
    "# this is for example data\n",
    "# create your own function for your data\n",
    "def read_postprocessed_data_example():\n",
    "    var_list = 'ta hus ts rlut rsdt rsut rlutcs rsutcs rsus rsds'.split()\n",
    "    # control data in dictionary {var: xarray,...}\n",
    "    # Coordinate: [month,plev,lat,lon] month.size=12\n",
    "    var_cont = {}\n",
    "    for var in var_list:\n",
    "        filepath = f\"./data/piControl/GFDL-CM4/{var}.mon.0001-0200.ltm.nc.r1i1p1f1.2x2.5.2021052021\"\n",
    "        var_cont[var] =  xr.open_dataset(filepath)[var].isel(model=0).load() # load into memory\n",
    "    # perturbation data in dictionary {var: xarray,...}\n",
    "    # Coordinate: [time,plev,lat,lon], time.size=yearx12\n",
    "    var_pert = {}\n",
    "    for var in var_list:\n",
    "        filepath = f\"./data/abrupt-4xCO2/GFDL-CM4/{var}.mon.0001-0150.nc.r1i1p1f1.2x2.5.2021052021\"\n",
    "        var_pert[var] =  xr.open_dataset(filepath)[var].isel(model=0).load() # load into memory\n",
    "    return var_cont, var_pert \n",
    "# read kernel data\n",
    "def read_kernel_file(rk_source='GFDL'):\n",
    "    rkpath = \"./data/kernels_TOA_\"+rk_source+\"_CMIP6-standard.nc\"\n",
    "    f_RK =  xr.open_dataset(rkpath,decode_times=False) \n",
    "    if rk_source =='GFDL':\n",
    "        f_RK =  f_RK.rename({'time': 'month'})\n",
    "        f_RK.coords['month'] = np.arange(1,13,1)\n",
    "    return f_RK"
   ]
  },
  {
   "cell_type": "code",
   "execution_count": 3,
   "metadata": {},
   "outputs": [
    {
     "name": "stdout",
     "output_type": "stream",
     "text": [
      "CPU times: user 140 ms, sys: 1.71 s, total: 1.85 s\n",
      "Wall time: 2.06 s\n"
     ]
    }
   ],
   "source": [
    "%%time\n",
    "# read data\n",
    "f_RK =  read_kernel_file()\n",
    "var_cont, var_pert = read_postprocessed_data_example()"
   ]
  },
  {
   "cell_type": "code",
   "execution_count": 4,
   "metadata": {},
   "outputs": [
    {
     "name": "stdout",
     "output_type": "stream",
     "text": [
      "CPU times: user 1min 33s, sys: 4.45 s, total: 1min 38s\n",
      "Wall time: 13.6 s\n"
     ]
    }
   ],
   "source": [
    "%%time\n",
    "# compute RR with RK\n",
    "ds_rk_numba =  r3k.decompose_dR_rk_toa_core(var_pert,var_cont,f_RK )"
   ]
  },
  {
   "cell_type": "code",
   "execution_count": 5,
   "metadata": {},
   "outputs": [
    {
     "name": "stderr",
     "output_type": "stream",
     "text": [
      "/tigress/cw55/work/rk_example/Radiative_Repsonse_with_Raditive_kernel_numpy.py:233: RuntimeWarning: invalid value encountered in true_divide\n",
      "  alb_cont_mon = cont_rsus[mon,:,:] / cont_rsds[mon,:,:]\n",
      "/tigress/cw55/work/rk_example/Radiative_Repsonse_with_Raditive_kernel_numpy.py:237: RuntimeWarning: invalid value encountered in true_divide\n",
      "  alb_pert_mon = pert_rsus[i*12+mon,:,:] / pert_rsds[i*12+mon,:,:]\n"
     ]
    },
    {
     "name": "stdout",
     "output_type": "stream",
     "text": [
      "CPU times: user 27.8 s, sys: 2.96 s, total: 30.8 s\n",
      "Wall time: 30.9 s\n"
     ]
    }
   ],
   "source": [
    "%%time\n",
    "import Radiative_Repsonse_with_Raditive_kernel_numpy as r3k_np\n",
    "ds_rk_np =  r3k_np.decompose_dR_rk_toa_core_numpy(var_pert,var_cont,f_RK )"
   ]
  },
  {
   "cell_type": "code",
   "execution_count": 6,
   "metadata": {},
   "outputs": [
    {
     "name": "stdout",
     "output_type": "stream",
     "text": [
      "CPU times: user 45.9 s, sys: 38.1 s, total: 1min 24s\n",
      "Wall time: 1min 24s\n"
     ]
    }
   ],
   "source": [
    "%%time\n",
    "import Radiative_Repsonse_with_Raditive_kernel_xarray as r3k_xr\n",
    "ds_rk_xr=  r3k_xr.decompose_dR_rk_toa_core_xarray(var_pert,var_cont,f_RK )"
   ]
  },
  {
   "cell_type": "code",
   "execution_count": 7,
   "metadata": {},
   "outputs": [],
   "source": [
    "# 0.1% error check\n",
    "xr.testing.assert_allclose(ds_rk_numba,ds_rk_np,rtol=1e-3,atol=1e-3)\n",
    "xr.testing.assert_allclose(ds_rk_numba,ds_rk_xr,rtol=1e-3,atol=1e-3)"
   ]
  }
 ],
 "metadata": {
  "kernelspec": {
   "display_name": "Python [conda env:cg37]",
   "language": "python",
   "name": "conda-env-cg37-py"
  },
  "language_info": {
   "codemirror_mode": {
    "name": "ipython",
    "version": 3
   },
   "file_extension": ".py",
   "mimetype": "text/x-python",
   "name": "python",
   "nbconvert_exporter": "python",
   "pygments_lexer": "ipython3",
   "version": "3.7.12"
  }
 },
 "nbformat": 4,
 "nbformat_minor": 4
}
